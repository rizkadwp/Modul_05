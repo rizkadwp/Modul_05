{
 "cells": [
  {
   "attachments": {},
   "cell_type": "markdown",
   "metadata": {},
   "source": [
    "## STRUKTUR PENGULANGAN\n",
    "# For"
   ]
  },
  {
   "attachments": {},
   "cell_type": "markdown",
   "metadata": {},
   "source": [
    "Perintah for dirancang untuk mengambil atau menelusuri elemen yang terdapat pada tipe-tipe koleksi seperti string, list, tuple, dictionary, set, dan objek bertipe range."
   ]
  },
  {
   "attachments": {},
   "cell_type": "markdown",
   "metadata": {},
   "source": [
    "Contoh ini akan menampilkan cara kerja dalam pengulangan for"
   ]
  },
  {
   "cell_type": "code",
   "execution_count": 1,
   "metadata": {},
   "outputs": [
    {
     "name": "stdout",
     "output_type": "stream",
     "text": [
      "angka sekarang 0\n",
      "angka sekarang 1\n",
      "angka sekarang 2\n",
      "angka sekarang 3\n",
      "angka sekarang 4\n"
     ]
    }
   ],
   "source": [
    "angka = [0,1,2,3,4]\n",
    "for i in angka :\n",
    "    print(f\"angka sekarang {i}\")"
   ]
  },
  {
   "attachments": {},
   "cell_type": "markdown",
   "metadata": {},
   "source": [
    "Contoh ini akan menampilkan setiap huruf dalam suatu string"
   ]
  },
  {
   "cell_type": "code",
   "execution_count": 1,
   "metadata": {},
   "outputs": [
    {
     "name": "stdout",
     "output_type": "stream",
     "text": [
      "A\n",
      "k\n",
      "u\n",
      " \n",
      "s\n",
      "u\n",
      "k\n",
      "a\n",
      " \n",
      "p\n",
      "r\n",
      "o\n",
      "g\n",
      "r\n",
      "a\n",
      "m\n",
      "a\n",
      " \n",
      "k\n",
      "o\n",
      "m\n",
      "p\n",
      "u\n",
      "t\n",
      "e\n",
      "r\n"
     ]
    }
   ],
   "source": [
    "kalimat = \"Aku suka programa komputer\"\n",
    "for huruf in kalimat:\n",
    "    print(huruf)"
   ]
  },
  {
   "attachments": {},
   "cell_type": "markdown",
   "metadata": {},
   "source": [
    "Contoh ini menampilkan pengulangan for pada tipe data list"
   ]
  },
  {
   "cell_type": "code",
   "execution_count": 3,
   "metadata": {},
   "outputs": [
    {
     "name": "stdout",
     "output_type": "stream",
     "text": [
      "teknik\n",
      "kedokteran\n",
      "fisip\n",
      "hukum\n",
      "fkip\n"
     ]
    }
   ],
   "source": [
    "for fakultas in [\"teknik\", \"kedokteran\", \"fisip\", \"hukum\", \"fkip\"]:\n",
    "    print(fakultas)"
   ]
  },
  {
   "attachments": {},
   "cell_type": "markdown",
   "metadata": {},
   "source": [
    "Bentuk penyajian lain "
   ]
  },
  {
   "cell_type": "code",
   "execution_count": 4,
   "metadata": {},
   "outputs": [
    {
     "name": "stdout",
     "output_type": "stream",
     "text": [
      "industri\n",
      "sipil\n",
      "mesin\n",
      "arsitektur\n",
      "pwk\n"
     ]
    }
   ],
   "source": []
  },
  {
   "cell_type": "code",
   "execution_count": null,
   "metadata": {},
   "outputs": [],
   "source": [
    "teknik = [\"industri\", \"sipil\", \"mesin\", \"arsitektur\", \"pwk\"]\n",
    "for prodi in teknik:\n",
    "    print(prodi)"
   ]
  },
  {
   "attachments": {},
   "cell_type": "markdown",
   "metadata": {},
   "source": [
    "Contoh ini menampilkan pengulangan for dalam range"
   ]
  },
  {
   "cell_type": "code",
   "execution_count": 5,
   "metadata": {},
   "outputs": [
    {
     "name": "stdout",
     "output_type": "stream",
     "text": [
      "0\n",
      "1\n",
      "2\n",
      "3\n",
      "4\n",
      "5\n",
      "6\n",
      "7\n",
      "8\n",
      "9\n"
     ]
    }
   ],
   "source": [
    "for i in range(10): # akan menampilkan angka index ke-0 hingga index ke-10\n",
    "    print(i)"
   ]
  },
  {
   "cell_type": "code",
   "execution_count": 7,
   "metadata": {},
   "outputs": [
    {
     "name": "stdout",
     "output_type": "stream",
     "text": [
      "4\n",
      "5\n",
      "6\n",
      "7\n",
      "8\n",
      "9\n",
      "10\n",
      "11\n"
     ]
    }
   ],
   "source": [
    "for i in range(2,10): # membaca index ke-2 hingga ke-10\n",
    "    i = i+ 2\n",
    "    print(i)"
   ]
  },
  {
   "cell_type": "code",
   "execution_count": 11,
   "metadata": {},
   "outputs": [
    {
     "name": "stdout",
     "output_type": "stream",
     "text": [
      "kuadrat 2 adalah 8\n",
      "kuadrat 3 adalah 27\n",
      "kuadrat 4 adalah 64\n",
      "kuadrat 5 adalah 125\n",
      "kuadrat 6 adalah 216\n",
      "kuadrat 7 adalah 343\n",
      "kuadrat 8 adalah 512\n",
      "kuadrat 9 adalah 729\n",
      "kuadrat 10 adalah 1000\n",
      "kuadrat 11 adalah 1331\n",
      "kuadrat 12 adalah 1728\n",
      "kuadrat 13 adalah 2197\n",
      "kuadrat 14 adalah 2744\n"
     ]
    }
   ],
   "source": [
    "for i in range(2,15):\n",
    "    print(f\"kuadrat {i} adalah {i**3}\")"
   ]
  },
  {
   "cell_type": "code",
   "execution_count": 13,
   "metadata": {},
   "outputs": [
    {
     "name": "stdout",
     "output_type": "stream",
     "text": [
      "kuadrat 2 adalah 4\n",
      "kuadrat 4 adalah 16\n",
      "kuadrat 6 adalah 36\n",
      "kuadrat 8 adalah 64\n",
      "kuadrat 10 adalah 100\n",
      "kuadrat 12 adalah 144\n",
      "kuadrat 14 adalah 196\n"
     ]
    }
   ],
   "source": [
    "for i in range(2,15,2): # mulai dari 2 hingga kurang dari 15, step increment 3\n",
    "    print(f\"kuadrat {i} adalah {i**2}\")"
   ]
  },
  {
   "attachments": {},
   "cell_type": "markdown",
   "metadata": {},
   "source": [
    "# While"
   ]
  },
  {
   "attachments": {},
   "cell_type": "markdown",
   "metadata": {},
   "source": [
    "While pada bahasa Python digunakan untuk mengeksekusi statement selama kondisi yang diberikan terpenuhi (True). "
   ]
  },
  {
   "cell_type": "code",
   "execution_count": 16,
   "metadata": {},
   "outputs": [
    {
     "name": "stdout",
     "output_type": "stream",
     "text": [
      "0\n",
      "3\n",
      "6\n",
      "9\n"
     ]
    }
   ],
   "source": [
    "# Contoh ini menampilkan pengulangan dengan memanggil i hingga i <= n\n",
    "n = 10\n",
    "i = 0\n",
    "while i <= n:\n",
    "    print(i)\n",
    "    i=i+3"
   ]
  },
  {
   "cell_type": "code",
   "execution_count": 1,
   "metadata": {},
   "outputs": [
    {
     "name": "stdout",
     "output_type": "stream",
     "text": [
      "angka sekarang 0\n",
      "angka sekarang adalah 1\n",
      "Terima kasih sudah memilih jasa layanan kami\n",
      "angka sekarang adalah 2\n",
      "Terima kasih sudah memilih jasa layanan kami\n",
      "angka sekarang adalah 3\n",
      "Terima kasih sudah memilih jasa layanan kami\n",
      "angka sekarang adalah 4\n",
      "Terima kasih sudah memilih jasa layanan kami\n",
      "angka sekarang adalah 5\n",
      "Terima kasih sudah memilih jasa layanan kami\n"
     ]
    }
   ],
   "source": [
    "angka = 0\n",
    "print(f\"angka sekarang {angka}\")\n",
    "while angka < 5:\n",
    "    angka +=1\n",
    "    print(f\"angka sekarang adalah {angka}\") #menampilkan posisi angka sekarang\n",
    "    print(\"Terima kasih sudah memilih jasa layanan kami\")"
   ]
  },
  {
   "cell_type": "code",
   "execution_count": 3,
   "metadata": {},
   "outputs": [
    {
     "name": "stdout",
     "output_type": "stream",
     "text": [
      "baris ke-5 : Hello World\n",
      "baris ke-6 : Hello World\n",
      "baris ke-7 : Hello World\n",
      "baris ke-8 : Hello World\n",
      "baris ke-9 : Hello World\n"
     ]
    }
   ],
   "source": [
    "i = 5\n",
    "while i <=9:\n",
    "    print(\"baris ke-%d : Hello World\"%i)\n",
    "    i += 1"
   ]
  },
  {
   "attachments": {},
   "cell_type": "markdown",
   "metadata": {},
   "source": [
    "Berikut merupakan contoh pengulangan menurun (descending)"
   ]
  },
  {
   "cell_type": "code",
   "execution_count": 9,
   "metadata": {},
   "outputs": [
    {
     "name": "stdout",
     "output_type": "stream",
     "text": [
      "8\n",
      "7\n",
      "6\n"
     ]
    }
   ],
   "source": [
    "# menentukan banyaknya pengulangan\n",
    "n = 6\n",
    "# melakukan pengulangan\n",
    "i = 8\n",
    "\n",
    "while i >= n:\n",
    "    print(i)\n",
    "    i =i-1"
   ]
  },
  {
   "attachments": {},
   "cell_type": "markdown",
   "metadata": {},
   "source": [
    "# Pengulangan Bersarang"
   ]
  },
  {
   "attachments": {},
   "cell_type": "markdown",
   "metadata": {},
   "source": [
    "Pengulangan bersarang merupakan pengulangan di dalam badan pengulangan lain. Dalam proses ini kita dapat menggunakan perintah while, for maupun kombinasi dari keduanya"
   ]
  },
  {
   "cell_type": "code",
   "execution_count": 8,
   "metadata": {},
   "outputs": [
    {
     "name": "stdout",
     "output_type": "stream",
     "text": [
      "1234\n",
      "123\n",
      "12\n",
      "1\n"
     ]
    }
   ],
   "source": [
    "# Contoh ini menampilkan pengulangan bersarang menggunakan for\n",
    "data = int(input(\"Masukkan angka disini : \"))\n",
    "\n",
    "for i in range(1, data+1):\n",
    "    for j in range(1,data+1):\n",
    "        print(j, end='')\n",
    "    \n",
    "    print()\n",
    "    data-=1 # descending"
   ]
  },
  {
   "cell_type": "code",
   "execution_count": null,
   "metadata": {},
   "outputs": [],
   "source": [
    "# contoh ini menampilkan pengulangan bersarang menggunakan while\n",
    "\n",
    "i = 1\n",
    "while i <= 10:\n",
    "    j = 1\n",
    "    while j<=i:\n",
    "        print(j, end='')\n",
    "        j += 1\n",
    "    print()\n",
    "    i +=1"
   ]
  },
  {
   "attachments": {},
   "cell_type": "markdown",
   "metadata": {},
   "source": [
    "# Control Flow"
   ]
  },
  {
   "attachments": {},
   "cell_type": "markdown",
   "metadata": {},
   "source": [
    "Pass : sebagai dummy, tidak akan dieksekusi"
   ]
  },
  {
   "cell_type": "code",
   "execution_count": null,
   "metadata": {},
   "outputs": [],
   "source": [
    "angka = 0\n",
    "\n",
    "print(f\"angka sekarang adalah {angka}\")\n",
    "\n",
    "while angka < 7:\n",
    "    angka +=1\n",
    "    print(f\"angka sekarang adalah {angka}\")\n",
    "\n",
    "    if angka ==2:\n",
    "        print(\"istirahat\")\n",
    "\n",
    "print(\"selesai\")"
   ]
  },
  {
   "cell_type": "code",
   "execution_count": null,
   "metadata": {},
   "outputs": [],
   "source": [
    "# implementasi pass\n",
    "angka = 0\n",
    "\n",
    "print(f\"angka sekarang adalah {angka}\")\n",
    "\n",
    "while angka < 7:\n",
    "    angka +=1\n",
    "    print(f\"angka sekarang adalah {angka}\")\n",
    "\n",
    "    if angka ==2:\n",
    "        print(\"istirahat\")\n",
    "        pass\n",
    "\n",
    "print(\"selesai\")"
   ]
  },
  {
   "attachments": {},
   "cell_type": "markdown",
   "metadata": {},
   "source": [
    "Continue : membuat pengulangan meloncat ke step berikutnya"
   ]
  },
  {
   "cell_type": "code",
   "execution_count": null,
   "metadata": {},
   "outputs": [],
   "source": [
    "# implementasi continue\n",
    "angka = 0\n",
    "\n",
    "print(f\"angka sekarang adalah {angka}\")\n",
    "\n",
    "while angka < 7:\n",
    "    angka +=1\n",
    "    print(f\"angka sekarang adalah {angka}\") # aksi 1\n",
    "\n",
    "    if angka ==2:\n",
    "        print(\"istirahat\")\n",
    "        continue # akan membuat loop meloncat ke step selanjutnya\n",
    "    print(\"hold\") # aksi 2\n",
    "\n",
    "print(\"selesai\")"
   ]
  },
  {
   "attachments": {},
   "cell_type": "markdown",
   "metadata": {},
   "source": [
    "Break : menghentikan pengulangan apabila suatu kondisi terpenuhi"
   ]
  },
  {
   "cell_type": "code",
   "execution_count": 2,
   "metadata": {},
   "outputs": [
    {
     "name": "stdout",
     "output_type": "stream",
     "text": [
      "angka sekarang adalah 1\n",
      "hold\n",
      "angka sekarang adalah 2\n",
      "istirahat\n",
      "selesai\n"
     ]
    }
   ],
   "source": [
    "# implementasi break\n",
    "data = int(input(\"masukkan angka disini: \"))\n",
    "angka = 0\n",
    "\n",
    "while True:\n",
    "    angka +=1\n",
    "    print(f\"angka sekarang adalah {angka}\") # aksi 1\n",
    "\n",
    "    if angka == data:\n",
    "        print(\"istirahat\")\n",
    "        break # akan membuat loop berhenti\n",
    "    print(\"hold\") # aksi 2\n",
    "\n",
    "print(\"selesai\")"
   ]
  },
  {
   "attachments": {},
   "cell_type": "markdown",
   "metadata": {},
   "source": [
    "Return/ fungsi pengembalian : Perintah return akan menghentikan proses eksekusi kode di dalam fungsi dan eksekusi akan diarahkan ke baris pemanggil"
   ]
  },
  {
   "cell_type": "code",
   "execution_count": 1,
   "metadata": {},
   "outputs": [
    {
     "name": "stdout",
     "output_type": "stream",
     "text": [
      "1 + 2 adalah 3\n"
     ]
    }
   ],
   "source": [
    "def operasi(a,b):\n",
    "    c = a+b\n",
    "    return c\n",
    "\n",
    "x = int(input(\"masukkan angka pertama: \"))\n",
    "y = int(input(\"masukkan angka kedua: \"))\n",
    "\n",
    "result = operasi(x,y)\n",
    "print(f\"{x} + {y} adalah {result}\")"
   ]
  },
  {
   "attachments": {},
   "cell_type": "markdown",
   "metadata": {},
   "source": [
    "# Ayo Latihan\n"
   ]
  },
  {
   "attachments": {},
   "cell_type": "markdown",
   "metadata": {},
   "source": [
    "1. Buatlah sebuah variabel yang berisi tipe data string nama lengkap kalian, kemudian buatlah pengulangan dimana pengulangan tersebut menampilkan tiap-tiap karakter nama kalian!"
   ]
  },
  {
   "cell_type": "code",
   "execution_count": 1,
   "metadata": {},
   "outputs": [
    {
     "name": "stdout",
     "output_type": "stream",
     "text": [
      "R\n",
      "i\n",
      "z\n",
      "k\n",
      "a\n",
      " \n",
      "D\n",
      "w\n",
      "i\n",
      " \n",
      "P\n",
      "u\n",
      "t\n",
      "r\n",
      "i\n"
     ]
    }
   ],
   "source": [
    "# kerjakan latihan 1 di sini!\n",
    "kalimat = \"Rizka Dwi Putri\"\n",
    "for huruf in kalimat:\n",
    "    print(huruf)\n",
    "    \n",
    "angka = 0\n",
    "\n",
    "while angka < 1:\n",
    "    angka += 1\n",
    "    print('Rizka')\n",
    "    print('Rizka Dwi')\n",
    "    print('Rizka Dwi Putri')\n",
    "    print('============================')\n",
    "    print('R')\n",
    "    print('Ri')\n",
    "    print('Riz')\n",
    "    print('Rizk')\n",
    "    print('Rizka')\n",
    "    print('D')\n",
    "    print('Dw')\n",
    "    print('Dwi')\n",
    "    print('P')\n",
    "    print('Pu')\n",
    "    print('Put')\n",
    "    print('Putr')\n",
    "    print('Putri')\n",
    "    print('============================')\n",
    "    print('R')\n",
    "    print('Ri')\n",
    "    print('Riz')\n",
    "    print('Rizk')\n",
    "    print('Rizka')\n",
    "    print('Rizka D')\n",
    "    print('Rizka Dw')\n",
    "    print('Rizka Dwi')\n",
    "    print('Rizka Dwi P')\n",
    "    print('Rizka Dwi Pu')\n",
    "    print('Rizka Dwi Put')\n",
    "    print('Rizka Dwi Putr')\n",
    "    print('Rizka Dwi Putri')"
   ]
  },
  {
   "attachments": {},
   "cell_type": "markdown",
   "metadata": {},
   "source": [
    "2. Buatlah sebuah list yang berisi mata kuliah yang ada di Teknik Industri (minimal 7), kemudian buat pengulangan yang menampilkan isi-isi dalam list tersebut, asumsikan salah satu mata kuliah tersebut menunjukkan mata kuliah favorit kalian maka tambahkan output \"Aku sangat suka Mata Kuliah X\"  "
   ]
  },
  {
   "cell_type": "code",
   "execution_count": 3,
   "metadata": {},
   "outputs": [
    {
     "name": "stdout",
     "output_type": "stream",
     "text": [
      "Aku sangat suka Mata Kuliah biologi\n",
      "Aku sangat suka Mata Kuliah kalkulus\n",
      "Aku sangat suka Mata Kuliah fisika dasar\n",
      "Aku sangat suka Mata Kuliah material teknik\n",
      "Aku sangat suka Mata Kuliah psikologi industri\n",
      "Aku sangat suka Mata Kuliah pengantar rekayasa dan desain\n",
      "Aku sangat suka Mata Kuliah mekanika teknik\n"
     ]
    }
   ],
   "source": [
    "mata_kuliah = ['biologi' ,'kalkulus' ,'fisika dasar' ,'material teknik' ,'psikologi industri' ,'pengantar rekayasa dan desain' ,'mekanika teknik']\n",
    "for i in mata_kuliah :\n",
    "    print(f\"Aku sangat suka Mata Kuliah {i}\")"
   ]
  }
 ],
 "metadata": {
  "kernelspec": {
   "display_name": "Python 3",
   "language": "python",
   "name": "python3"
  },
  "language_info": {
   "codemirror_mode": {
    "name": "ipython",
    "version": 3
   },
   "file_extension": ".py",
   "mimetype": "text/x-python",
   "name": "python",
   "nbconvert_exporter": "python",
   "pygments_lexer": "ipython3",
   "version": "3.11.2"
  },
  "orig_nbformat": 4,
  "vscode": {
   "interpreter": {
    "hash": "bfc64d02efe54d42e34b263bef22f30589257b89fcb64b24b7eac44b53028422"
   }
  }
 },
 "nbformat": 4,
 "nbformat_minor": 2
}
